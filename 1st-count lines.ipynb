{
 "cells": [
  {
   "cell_type": "code",
   "execution_count": 8,
   "metadata": {
    "collapsed": false
   },
   "outputs": [
    {
     "name": "stdout",
     "output_type": "stream",
     "text": [
      "searches.csv.bz2: 20390199\n",
      "bookings.csv.bz2: 10000011\n"
     ]
    }
   ],
   "source": [
    "from pyspark import SparkConf, SparkContext\n",
    "import sys\n",
    "\n",
    "def countLines(sc,filename):\n",
    "   textRDD = sc.textFile(filename)\n",
    "   count = textRDD.count()\n",
    "   print(filename + \": \" + str(count))\n",
    "   \n",
    "\n",
    "if __name__ == \"__main__\":\n",
    "\n",
    "   # Configure Spark\n",
    "   conf = SparkConf()\n",
    "   conf = conf.setMaster(\"local[*]\")\n",
    "   sc = SparkContext(conf=conf)\n",
    "\n",
    "   # Execute Main functionality\n",
    "   countLines(sc, \"searches.csv.bz2\")\n",
    "   countLines(sc, \"bookings.csv.bz2\")\n",
    "\n",
    "   sc.stop()\n"
   ]
  },
  {
   "cell_type": "code",
   "execution_count": null,
   "metadata": {
    "collapsed": true
   },
   "outputs": [],
   "source": []
  }
 ],
 "metadata": {
  "kernelspec": {
   "display_name": "Python 3",
   "language": "python",
   "name": "python3"
  },
  "language_info": {
   "codemirror_mode": {
    "name": "ipython",
    "version": 3
   },
   "file_extension": ".py",
   "mimetype": "text/x-python",
   "name": "python",
   "nbconvert_exporter": "python",
   "pygments_lexer": "ipython3",
   "version": "3.5.1"
  }
 },
 "nbformat": 4,
 "nbformat_minor": 0
}
